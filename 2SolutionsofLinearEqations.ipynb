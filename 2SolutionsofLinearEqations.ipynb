{
 "cells": [
  {
   "cell_type": "code",
   "execution_count": 3,
   "metadata": {},
   "outputs": [],
   "source": [
    "import numpy as np\n",
    "import matplotlib.pyplot as plt"
   ]
  },
  {
   "cell_type": "code",
   "execution_count": 4,
   "metadata": {},
   "outputs": [],
   "source": [
    "def DLUDisassembly(A):\n",
    "    \n",
    "    D_ = np.zeros(A.shape)\n",
    "    L_ = np.zeros(A.shape)\n",
    "    U_ = np.zeros(A.shape)\n",
    "\n",
    "    for i, a in enumerate(A):\n",
    "        for j, aa in enumerate(a):\n",
    "            if i == j:\n",
    "                D_[i][j] = aa\n",
    "            elif i < j:\n",
    "                U_[i][j]= aa\n",
    "            else:\n",
    "                L_[i][j] = aa\n",
    "    return D_, L_, U_"
   ]
  },
  {
   "cell_type": "code",
   "execution_count": 60,
   "metadata": {},
   "outputs": [],
   "source": [
    "def JacobiMethod(A, c, x0):\n",
    "    x = []\n",
    "    S = []\n",
    "    D, L, U = DLUDisassembly(A)\n",
    "    \n",
    "    D_inv = np.linalg.inv(D)\n",
    "    S = D_inv.dot(L + U)\n",
    "    x1 = np.array([100, 100])\n",
    "    \n",
    "    while np.abs(np.linalg.norm(x1 - x0) ) > 10e-5:\n",
    "        x0 = x1\n",
    "        x1 = -D_inv.dot(L + U) .dot( x0 )+ D_inv.dot(c)\n",
    "        x.append(x1)\n",
    "        \n",
    "        \n",
    "    return x, S"
   ]
  },
  {
   "cell_type": "code",
   "execution_count": 61,
   "metadata": {},
   "outputs": [],
   "source": [
    "x0 = np.array([0.2, 0.2])\n",
    "A = np.array( [[5, -1],[1, 5]])\n",
    "c = [3, 11]\n",
    "aJ, Sj = JacobiMethod(A, c, x0)"
   ]
  },
  {
   "cell_type": "code",
   "execution_count": 62,
   "metadata": {},
   "outputs": [
    {
     "data": {
      "text/plain": [
       "[array([ 20.6, -17.8]),\n",
       " array([-2.96, -1.92]),\n",
       " array([0.216, 2.792]),\n",
       " array([1.1584, 2.1568]),\n",
       " array([1.03136, 1.96832]),\n",
       " array([0.993664, 1.993728]),\n",
       " array([0.9987456, 2.0012672]),\n",
       " array([1.00025344, 2.00025088]),\n",
       " array([1.00005018, 1.99994931]),\n",
       " array([0.99998986, 1.99998996])]"
      ]
     },
     "execution_count": 62,
     "metadata": {},
     "output_type": "execute_result"
    }
   ],
   "source": [
    "aJ"
   ]
  },
  {
   "cell_type": "code",
   "execution_count": 63,
   "metadata": {},
   "outputs": [
    {
     "data": {
      "text/plain": [
       "array([[ 0. , -0.2],\n",
       "       [ 0.2,  0. ]])"
      ]
     },
     "execution_count": 63,
     "metadata": {},
     "output_type": "execute_result"
    }
   ],
   "source": [
    "Sj"
   ]
  },
  {
   "cell_type": "code",
   "execution_count": 64,
   "metadata": {},
   "outputs": [],
   "source": [
    "def GaussSeidelMethod(A, c, x0):\n",
    "    x = []\n",
    "    S = []\n",
    "    D, L, U = DLUDisassembly(A)\n",
    "    print(D )\n",
    "    print(L)\n",
    "    print(D+L)\n",
    "    DL_inv = np.linalg.inv(D + L)\n",
    "    print(DL_inv)\n",
    "    S = DL_inv.dot(U)\n",
    "    \n",
    "    x1 = [100, 100]\n",
    "    while np.abs(np.linalg.norm(x1- x0)) > 10e-5:\n",
    "        x0 = x1\n",
    "        \n",
    "        x1 = -DL_inv.dot(U) .dot( x0 )+ DL_inv.dot(c)\n",
    "        x.append(x1)\n",
    "        \n",
    "        \n",
    "    return x, S"
   ]
  },
  {
   "cell_type": "code",
   "execution_count": 65,
   "metadata": {},
   "outputs": [
    {
     "name": "stdout",
     "output_type": "stream",
     "text": [
      "[[5. 0.]\n",
      " [0. 5.]]\n",
      "[[0. 0.]\n",
      " [1. 0.]]\n",
      "[[5. 0.]\n",
      " [1. 5.]]\n",
      "[[ 0.2   0.  ]\n",
      " [-0.04  0.2 ]]\n"
     ]
    }
   ],
   "source": [
    "aG, Sg = GaussSeidelMethod(A, c, x0)"
   ]
  },
  {
   "cell_type": "code",
   "execution_count": 66,
   "metadata": {},
   "outputs": [
    {
     "data": {
      "text/plain": [
       "[array([20.6 , -1.92]),\n",
       " array([0.216 , 2.1568]),\n",
       " array([1.03136 , 1.993728]),\n",
       " array([0.9987456 , 2.00025088]),\n",
       " array([1.00005018, 1.99998996]),\n",
       " array([0.99999799, 2.0000004 ])]"
      ]
     },
     "execution_count": 66,
     "metadata": {},
     "output_type": "execute_result"
    }
   ],
   "source": [
    "aG"
   ]
  },
  {
   "cell_type": "code",
   "execution_count": 68,
   "metadata": {},
   "outputs": [
    {
     "data": {
      "text/plain": [
       "array([[ 0.  , -0.2 ],\n",
       "       [ 0.  ,  0.04]])"
      ]
     },
     "execution_count": 68,
     "metadata": {},
     "output_type": "execute_result"
    }
   ],
   "source": [
    "Sg"
   ]
  },
  {
   "cell_type": "code",
   "execution_count": null,
   "metadata": {},
   "outputs": [],
   "source": []
  }
 ],
 "metadata": {
  "kernelspec": {
   "display_name": "Python 3",
   "language": "python",
   "name": "python3"
  },
  "language_info": {
   "codemirror_mode": {
    "name": "ipython",
    "version": 3
   },
   "file_extension": ".py",
   "mimetype": "text/x-python",
   "name": "python",
   "nbconvert_exporter": "python",
   "pygments_lexer": "ipython3",
   "version": "3.6.4"
  }
 },
 "nbformat": 4,
 "nbformat_minor": 2
}
